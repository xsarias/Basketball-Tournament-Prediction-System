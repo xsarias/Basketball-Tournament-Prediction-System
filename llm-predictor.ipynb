{
 "cells": [
  {
   "cell_type": "code",
   "execution_count": 1,
   "id": "a60f0a32",
   "metadata": {
    "_cell_guid": "b1076dfc-b9ad-4769-8c92-a6c4dae69d19",
    "_uuid": "8f2839f25d086af736a60e9eeb907d3b93b6e0e5",
    "execution": {
     "iopub.execute_input": "2025-07-12T11:02:49.932967Z",
     "iopub.status.busy": "2025-07-12T11:02:49.932628Z",
     "iopub.status.idle": "2025-07-12T11:02:52.000878Z",
     "shell.execute_reply": "2025-07-12T11:02:51.999766Z"
    },
    "papermill": {
     "duration": 2.073986,
     "end_time": "2025-07-12T11:02:52.002508",
     "exception": false,
     "start_time": "2025-07-12T11:02:49.928522",
     "status": "completed"
    },
    "tags": []
   },
   "outputs": [
    {
     "name": "stdout",
     "output_type": "stream",
     "text": [
      "/kaggle/input/featuredatasets/full_feature_dataset.csv\n"
     ]
    }
   ],
   "source": [
    "# This Python 3 environment comes with many helpful analytics libraries installed\n",
    "# It is defined by the kaggle/python Docker image: https://github.com/kaggle/docker-python\n",
    "# For example, here's several helpful packages to load\n",
    "\n",
    "import numpy as np # linear algebra\n",
    "import pandas as pd # data processing, CSV file I/O (e.g. pd.read_csv)\n",
    "\n",
    "# Input data files are available in the read-only \"../input/\" directory\n",
    "# For example, running this (by clicking run or pressing Shift+Enter) will list all files under the input directory\n",
    "\n",
    "import os\n",
    "for dirname, _, filenames in os.walk('/kaggle/input'):\n",
    "    for filename in filenames:\n",
    "        print(os.path.join(dirname, filename))\n",
    "\n",
    "# You can write up to 20GB to the current directory (/kaggle/working/) that gets preserved as output when you create a version using \"Save & Run All\" \n",
    "# You can also write temporary files to /kaggle/temp/, but they won't be saved outside of the current session"
   ]
  },
  {
   "cell_type": "code",
   "execution_count": 2,
   "id": "fa7bc414",
   "metadata": {
    "execution": {
     "iopub.execute_input": "2025-07-12T11:02:52.009119Z",
     "iopub.status.busy": "2025-07-12T11:02:52.008590Z",
     "iopub.status.idle": "2025-07-12T11:03:04.804622Z",
     "shell.execute_reply": "2025-07-12T11:03:04.803151Z"
    },
    "papermill": {
     "duration": 12.801279,
     "end_time": "2025-07-12T11:03:04.806707",
     "exception": false,
     "start_time": "2025-07-12T11:02:52.005428",
     "status": "completed"
    },
    "tags": []
   },
   "outputs": [
    {
     "name": "stdout",
     "output_type": "stream",
     "text": [
      "\u001b[2K   \u001b[90m━━━━━━━━━━━━━━━━━━━━━━━━━━━━━━━━━━━━━━━━\u001b[0m \u001b[32m144.7/144.7 kB\u001b[0m \u001b[31m4.2 MB/s\u001b[0m eta \u001b[36m0:00:00\u001b[0m\r\n",
      "\u001b[?25h"
     ]
    }
   ],
   "source": [
    "!pip uninstall -qqy jupyterlab  # Remove unused packages from Kaggle's base image that conflict\n",
    "!pip install -U -q \"google-genai==1.7.0\"\n",
    "!pip install -q google-generativeai"
   ]
  },
  {
   "cell_type": "code",
   "execution_count": 3,
   "id": "a3c64a38",
   "metadata": {
    "execution": {
     "iopub.execute_input": "2025-07-12T11:03:04.813597Z",
     "iopub.status.busy": "2025-07-12T11:03:04.813246Z",
     "iopub.status.idle": "2025-07-12T11:03:06.338959Z",
     "shell.execute_reply": "2025-07-12T11:03:06.337145Z"
    },
    "papermill": {
     "duration": 1.532404,
     "end_time": "2025-07-12T11:03:06.341619",
     "exception": false,
     "start_time": "2025-07-12T11:03:04.809215",
     "status": "completed"
    },
    "tags": []
   },
   "outputs": [],
   "source": [
    "\n",
    "from google import genai\n",
    "from google.genai import types\n",
    "\n",
    "from IPython.display import HTML, Markdown, display"
   ]
  },
  {
   "cell_type": "code",
   "execution_count": 4,
   "id": "a46e463a",
   "metadata": {
    "execution": {
     "iopub.execute_input": "2025-07-12T11:03:06.348739Z",
     "iopub.status.busy": "2025-07-12T11:03:06.348181Z",
     "iopub.status.idle": "2025-07-12T11:03:06.793776Z",
     "shell.execute_reply": "2025-07-12T11:03:06.793042Z"
    },
    "papermill": {
     "duration": 0.451192,
     "end_time": "2025-07-12T11:03:06.795525",
     "exception": false,
     "start_time": "2025-07-12T11:03:06.344333",
     "status": "completed"
    },
    "tags": []
   },
   "outputs": [],
   "source": [
    "\n",
    "from google.api_core import retry\n",
    "\n",
    "\n",
    "is_retriable = lambda e: (isinstance(e, genai.errors.APIError) and e.code in {429, 503})\n",
    "\n",
    "genai.models.Models.generate_content = retry.Retry(\n",
    "    predicate=is_retriable)(genai.models.Models.generate_content)\n"
   ]
  },
  {
   "cell_type": "code",
   "execution_count": 5,
   "id": "14d1b4f9",
   "metadata": {
    "execution": {
     "iopub.execute_input": "2025-07-12T11:03:06.801962Z",
     "iopub.status.busy": "2025-07-12T11:03:06.801411Z",
     "iopub.status.idle": "2025-07-12T11:03:08.888682Z",
     "shell.execute_reply": "2025-07-12T11:03:08.887889Z"
    },
    "papermill": {
     "duration": 2.092277,
     "end_time": "2025-07-12T11:03:08.890389",
     "exception": false,
     "start_time": "2025-07-12T11:03:06.798112",
     "status": "completed"
    },
    "tags": []
   },
   "outputs": [],
   "source": [
    "from kaggle_secrets import UserSecretsClient\n",
    "import google.generativeai as genai\n",
    "\n",
    "GOOGLE_API_KEY = UserSecretsClient().get_secret(\"GOOGLE_API_KEY\")\n",
    "genai.configure(api_key=GOOGLE_API_KEY)\n",
    "\n",
    "flash = genai.GenerativeModel('gemini-1.5-flash')"
   ]
  },
  {
   "cell_type": "code",
   "execution_count": 6,
   "id": "96a7cd68",
   "metadata": {
    "execution": {
     "iopub.execute_input": "2025-07-12T11:03:08.896504Z",
     "iopub.status.busy": "2025-07-12T11:03:08.896193Z",
     "iopub.status.idle": "2025-07-12T11:03:28.789280Z",
     "shell.execute_reply": "2025-07-12T11:03:28.788297Z"
    },
    "papermill": {
     "duration": 19.898086,
     "end_time": "2025-07-12T11:03:28.790917",
     "exception": false,
     "start_time": "2025-07-12T11:03:08.892831",
     "status": "completed"
    },
    "tags": []
   },
   "outputs": [
    {
     "data": {
      "text/html": [
       "<div>\n",
       "<style scoped>\n",
       "    .dataframe tbody tr th:only-of-type {\n",
       "        vertical-align: middle;\n",
       "    }\n",
       "\n",
       "    .dataframe tbody tr th {\n",
       "        vertical-align: top;\n",
       "    }\n",
       "\n",
       "    .dataframe thead th {\n",
       "        text-align: right;\n",
       "    }\n",
       "</style>\n",
       "<table border=\"1\" class=\"dataframe\">\n",
       "  <thead>\n",
       "    <tr style=\"text-align: right;\">\n",
       "      <th></th>\n",
       "      <th>Season</th>\n",
       "      <th>Gender</th>\n",
       "      <th>WTeamID</th>\n",
       "      <th>LTeamID</th>\n",
       "      <th>SeedA</th>\n",
       "      <th>SeedB</th>\n",
       "      <th>SeedDiff</th>\n",
       "      <th>W_WinLoss</th>\n",
       "      <th>W_PPG</th>\n",
       "      <th>W_PtsAllowed</th>\n",
       "      <th>W_Margin</th>\n",
       "      <th>L_WinLoss</th>\n",
       "      <th>L_PPG</th>\n",
       "      <th>L_PtsAllowed</th>\n",
       "      <th>L_Margin</th>\n",
       "      <th>Diff_WinLoss</th>\n",
       "      <th>Diff_Margin</th>\n",
       "      <th>Diff_PPG</th>\n",
       "      <th>Diff_PtsAllowed</th>\n",
       "      <th>gemini_analysis</th>\n",
       "    </tr>\n",
       "  </thead>\n",
       "  <tbody>\n",
       "    <tr>\n",
       "      <th>0</th>\n",
       "      <td>2015</td>\n",
       "      <td>M</td>\n",
       "      <td>1214</td>\n",
       "      <td>1264</td>\n",
       "      <td>16</td>\n",
       "      <td>16</td>\n",
       "      <td>0</td>\n",
       "      <td>0.484848</td>\n",
       "      <td>67.151515</td>\n",
       "      <td>68.000000</td>\n",
       "      <td>-0.848485</td>\n",
       "      <td>0.593750</td>\n",
       "      <td>69.875000</td>\n",
       "      <td>67.500000</td>\n",
       "      <td>2.375000</td>\n",
       "      <td>-0.108902</td>\n",
       "      <td>-3.223485</td>\n",
       "      <td>-2.723485</td>\n",
       "      <td>0.500000</td>\n",
       "      <td>1. **Does it make sense that team 1214 won, ba...</td>\n",
       "    </tr>\n",
       "    <tr>\n",
       "      <th>1</th>\n",
       "      <td>2015</td>\n",
       "      <td>M</td>\n",
       "      <td>1279</td>\n",
       "      <td>1140</td>\n",
       "      <td>11</td>\n",
       "      <td>11</td>\n",
       "      <td>0</td>\n",
       "      <td>0.625000</td>\n",
       "      <td>72.625000</td>\n",
       "      <td>67.500000</td>\n",
       "      <td>5.125000</td>\n",
       "      <td>0.718750</td>\n",
       "      <td>81.843750</td>\n",
       "      <td>72.937500</td>\n",
       "      <td>8.906250</td>\n",
       "      <td>-0.093750</td>\n",
       "      <td>-3.781250</td>\n",
       "      <td>-9.218750</td>\n",
       "      <td>-5.437500</td>\n",
       "      <td>1. **Does it make sense that team 1279 won, ba...</td>\n",
       "    </tr>\n",
       "    <tr>\n",
       "      <th>2</th>\n",
       "      <td>2015</td>\n",
       "      <td>M</td>\n",
       "      <td>1173</td>\n",
       "      <td>1129</td>\n",
       "      <td>11</td>\n",
       "      <td>11</td>\n",
       "      <td>0</td>\n",
       "      <td>0.757576</td>\n",
       "      <td>68.212121</td>\n",
       "      <td>60.909091</td>\n",
       "      <td>7.303030</td>\n",
       "      <td>0.741935</td>\n",
       "      <td>69.870968</td>\n",
       "      <td>60.935484</td>\n",
       "      <td>8.935484</td>\n",
       "      <td>0.015640</td>\n",
       "      <td>-1.632454</td>\n",
       "      <td>-1.658847</td>\n",
       "      <td>-0.026393</td>\n",
       "      <td>1. **Does it make sense that team 1173 won, ba...</td>\n",
       "    </tr>\n",
       "    <tr>\n",
       "      <th>3</th>\n",
       "      <td>2015</td>\n",
       "      <td>M</td>\n",
       "      <td>1352</td>\n",
       "      <td>1316</td>\n",
       "      <td>16</td>\n",
       "      <td>16</td>\n",
       "      <td>0</td>\n",
       "      <td>0.575758</td>\n",
       "      <td>69.000000</td>\n",
       "      <td>67.727273</td>\n",
       "      <td>1.272727</td>\n",
       "      <td>0.645161</td>\n",
       "      <td>73.935484</td>\n",
       "      <td>68.516129</td>\n",
       "      <td>5.419355</td>\n",
       "      <td>-0.069404</td>\n",
       "      <td>-4.146628</td>\n",
       "      <td>-4.935484</td>\n",
       "      <td>-0.788856</td>\n",
       "      <td>## Analysis of 2015 NCAA Men's Tournament Matc...</td>\n",
       "    </tr>\n",
       "    <tr>\n",
       "      <th>4</th>\n",
       "      <td>2015</td>\n",
       "      <td>M</td>\n",
       "      <td>1112</td>\n",
       "      <td>1411</td>\n",
       "      <td>2</td>\n",
       "      <td>15</td>\n",
       "      <td>13</td>\n",
       "      <td>0.911765</td>\n",
       "      <td>76.441176</td>\n",
       "      <td>58.617647</td>\n",
       "      <td>17.823529</td>\n",
       "      <td>0.647059</td>\n",
       "      <td>68.176471</td>\n",
       "      <td>67.441176</td>\n",
       "      <td>0.735294</td>\n",
       "      <td>0.264706</td>\n",
       "      <td>17.088235</td>\n",
       "      <td>8.264706</td>\n",
       "      <td>-8.823529</td>\n",
       "      <td>1. **Does it make sense that team 1112 won, ba...</td>\n",
       "    </tr>\n",
       "  </tbody>\n",
       "</table>\n",
       "</div>"
      ],
      "text/plain": [
       "   Season Gender  WTeamID  LTeamID  SeedA  SeedB  SeedDiff  W_WinLoss  \\\n",
       "0    2015      M     1214     1264     16     16         0   0.484848   \n",
       "1    2015      M     1279     1140     11     11         0   0.625000   \n",
       "2    2015      M     1173     1129     11     11         0   0.757576   \n",
       "3    2015      M     1352     1316     16     16         0   0.575758   \n",
       "4    2015      M     1112     1411      2     15        13   0.911765   \n",
       "\n",
       "       W_PPG  W_PtsAllowed   W_Margin  L_WinLoss      L_PPG  L_PtsAllowed  \\\n",
       "0  67.151515     68.000000  -0.848485   0.593750  69.875000     67.500000   \n",
       "1  72.625000     67.500000   5.125000   0.718750  81.843750     72.937500   \n",
       "2  68.212121     60.909091   7.303030   0.741935  69.870968     60.935484   \n",
       "3  69.000000     67.727273   1.272727   0.645161  73.935484     68.516129   \n",
       "4  76.441176     58.617647  17.823529   0.647059  68.176471     67.441176   \n",
       "\n",
       "   L_Margin  Diff_WinLoss  Diff_Margin  Diff_PPG  Diff_PtsAllowed  \\\n",
       "0  2.375000     -0.108902    -3.223485 -2.723485         0.500000   \n",
       "1  8.906250     -0.093750    -3.781250 -9.218750        -5.437500   \n",
       "2  8.935484      0.015640    -1.632454 -1.658847        -0.026393   \n",
       "3  5.419355     -0.069404    -4.146628 -4.935484        -0.788856   \n",
       "4  0.735294      0.264706    17.088235  8.264706        -8.823529   \n",
       "\n",
       "                                     gemini_analysis  \n",
       "0  1. **Does it make sense that team 1214 won, ba...  \n",
       "1  1. **Does it make sense that team 1279 won, ba...  \n",
       "2  1. **Does it make sense that team 1173 won, ba...  \n",
       "3  ## Analysis of 2015 NCAA Men's Tournament Matc...  \n",
       "4  1. **Does it make sense that team 1112 won, ba...  "
      ]
     },
     "execution_count": 6,
     "metadata": {},
     "output_type": "execute_result"
    }
   ],
   "source": [
    "df = pd.read_csv(\"/kaggle/input/featuredatasets/full_feature_dataset.csv\")\n",
    "\n",
    "# 🧠 Function to generate prompt and analyze the match\n",
    "def analyze_match(row):\n",
    "    prompt = f\"\"\"\n",
    "You are a data analyst reviewing NCAA Tournament match predictions.\n",
    "\n",
    "Match Information:\n",
    "- Season: {row['Season']}, Gender: {row['Gender']}\n",
    "- Winning Team ID: {row['WTeamID']}, Losing Team ID: {row['LTeamID']}\n",
    "- Seeds → Winner: {row['SeedA']}, Loser: {row['SeedB']} (Difference: {row['SeedDiff']})\n",
    "- Winner Stats → Win/Loss: {row['W_WinLoss']}, PPG: {row['W_PPG']}, Allowed Points: {row['W_PtsAllowed']}, Avg Margin: {row['W_Margin']}\n",
    "- Loser Stats → Win/Loss: {row['L_WinLoss']}, PPG: {row['L_PPG']}, Allowed Points: {row['L_PtsAllowed']}, Avg Margin: {row['L_Margin']}\n",
    "- Feature Differences → WinLossDiff: {row['Diff_WinLoss']}, MarginDiff: {row['Diff_Margin']}, PPGDiff: {row['Diff_PPG']}, PtsAllowedDiff: {row['Diff_PtsAllowed']}\n",
    "\n",
    "Your tasks:\n",
    "1. Does it make sense that team {row['WTeamID']} won, based on the data?\n",
    "2. Which statistical differences were likely most influential?\n",
    "3. Suggest one new feature that could improve future model predictions.\n",
    "\"\"\"\n",
    "    try:\n",
    "        response = flash.generate_content(prompt)\n",
    "        return response.text\n",
    "    except Exception as e:\n",
    "        return f\"❌ Error: {e}\"\n",
    "\n",
    "# 🔁 Run the analysis on the first 5 rows (adjust if needed)\n",
    "df['gemini_analysis'] = df.head(5).apply(analyze_match, axis=1)\n",
    "\n",
    "\n",
    "df.head()"
   ]
  },
  {
   "cell_type": "code",
   "execution_count": null,
   "id": "94cad791",
   "metadata": {
    "papermill": {
     "duration": 0.002523,
     "end_time": "2025-07-12T11:03:28.796286",
     "exception": false,
     "start_time": "2025-07-12T11:03:28.793763",
     "status": "completed"
    },
    "tags": []
   },
   "outputs": [],
   "source": []
  }
 ],
 "metadata": {
  "kaggle": {
   "accelerator": "none",
   "dataSources": [
    {
     "datasetId": 7852298,
     "sourceId": 12448064,
     "sourceType": "datasetVersion"
    }
   ],
   "dockerImageVersionId": 31089,
   "isGpuEnabled": false,
   "isInternetEnabled": true,
   "language": "python",
   "sourceType": "notebook"
  },
  "kernelspec": {
   "display_name": "Python 3",
   "language": "python",
   "name": "python3"
  },
  "language_info": {
   "codemirror_mode": {
    "name": "ipython",
    "version": 3
   },
   "file_extension": ".py",
   "mimetype": "text/x-python",
   "name": "python",
   "nbconvert_exporter": "python",
   "pygments_lexer": "ipython3",
   "version": "3.11.13"
  },
  "papermill": {
   "default_parameters": {},
   "duration": 47.269419,
   "end_time": "2025-07-12T11:03:32.014962",
   "environment_variables": {},
   "exception": null,
   "input_path": "__notebook__.ipynb",
   "output_path": "__notebook__.ipynb",
   "parameters": {},
   "start_time": "2025-07-12T11:02:44.745543",
   "version": "2.6.0"
  }
 },
 "nbformat": 4,
 "nbformat_minor": 5
}
